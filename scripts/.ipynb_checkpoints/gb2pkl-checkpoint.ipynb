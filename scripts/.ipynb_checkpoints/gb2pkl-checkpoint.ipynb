{
 "cells": [
  {
   "cell_type": "code",
   "execution_count": 11,
   "metadata": {},
   "outputs": [],
   "source": [
    "from Bio import SeqIO\n",
    "import pandas as pd\n",
    "import os"
   ]
  },
  {
   "cell_type": "markdown",
   "metadata": {},
   "source": [
    "# get proteins to location mapping from GBs\n",
    "\n",
    "Required information:\n",
    "+ .type\n",
    "+ .location\n",
    "+ .qualifiers['product']\n",
    "+ .qualifiers['protein_id']\n",
    "+ .qualifiers['translation']"
   ]
  },
  {
   "cell_type": "code",
   "execution_count": 12,
   "metadata": {},
   "outputs": [],
   "source": [
    "gbks = snakemake.input[0]\n",
    "#gbks = '/Users/devseeva/Desktop/work/pan-genome-visualization/data/rso_test/input_GenBank'"
   ]
  },
  {
   "cell_type": "code",
   "execution_count": 13,
   "metadata": {},
   "outputs": [
    {
     "name": "stdout",
     "output_type": "stream",
     "text": [
      "Genome: <DirEntry 'GCF_013306935.1_ASM1330693v1_genomic.gbk'>\n",
      "Chr NZ_CP052126.1 with 7264 features\n",
      "Chr NZ_CP052127.1 with 3123 features\n",
      "\n",
      "Genome: <DirEntry 'GCF_013306235.1_ASM1330623v1_genomic.gbk'>\n",
      "Chr NZ_CP052076.1 with 6856 features\n",
      "Chr NZ_CP052077.1 with 3177 features\n",
      "\n",
      "Genome: <DirEntry 'GCF_001587135.1_ASM158713v1_genomic.gbk'>\n",
      "Chr NZ_CP012939.1 with 6609 features\n",
      "Chr NZ_CP012941.1 with 197 features\n",
      "Chr NZ_CP012942.1 with 91 features\n",
      "Chr NZ_CP012940.1 with 3077 features\n",
      "\n",
      "Genome: <DirEntry 'GCF_013306435.1_ASM1330643v1_genomic.gbk'>\n",
      "Chr NZ_CP052096.1 with 6822 features\n",
      "Chr NZ_CP052097.1 with 3221 features\n",
      "\n",
      "Genome: <DirEntry 'GCF_001586135.1_ASM158613v1_genomic.gbk'>\n",
      "Chr NZ_CP014702.1 with 6680 features\n",
      "Chr NZ_CP014703.1 with 3022 features\n",
      "\n",
      "Genome: <DirEntry 'GCF_001887535.1_ASM188753v1_genomic.gbk'>\n",
      "Chr NZ_CP016554.1 with 7588 features\n",
      "Chr NZ_CP016555.1 with 3271 features\n",
      "\n",
      "Genome: <DirEntry 'GCF_013306335.1_ASM1330633v1_genomic.gbk'>\n",
      "Chr NZ_CP052086.1 with 7262 features\n",
      "Chr NZ_CP052087.1 with 3127 features\n",
      "\n",
      "Genome: <DirEntry 'GCF_013375735.1_ASM1337573v1_genomic.gbk'>\n",
      "Chr NZ_CP056085.1 with 7282 features\n",
      "Chr NZ_CP056086.1 with 3165 features\n",
      "\n"
     ]
    }
   ],
   "source": [
    "genomes2prot_db = {}\n",
    "\n",
    "for entry in os.scandir(gbks):\n",
    "    print('Genome:', entry)\n",
    "    if (entry.path.endswith(\".gbk\") and entry.is_file()):\n",
    "        dic_prot_db = {}\n",
    "        for record in SeqIO.parse(entry.path, \"gb\"):\n",
    "            print('Chr',record.id, 'with', len(record.features), 'features')\n",
    "            #print(record.features[2])\n",
    "\n",
    "            for f in record.features:\n",
    "                if f.type == 'CDS' and 'protein_id' in f.qualifiers.keys():\n",
    "                    cds_info = {'chr':record.id,\n",
    "                                'location': f.location,\n",
    "                                'nucl': f.extract(record.seq),\n",
    "                                'product': f.qualifiers['product'],\n",
    "                                'translation': str(f.qualifiers['translation'][0]),\n",
    "                                'acc':f.qualifiers['protein_id'][0]}\n",
    "\n",
    "                    dic_prot_db[f.qualifiers['protein_id'][0]] = cds_info\n",
    "        genomes2prot_db[entry.name.replace('_genomic.gbk', '_protein')] = dic_prot_db\n",
    "    print()"
   ]
  },
  {
   "cell_type": "code",
   "execution_count": 14,
   "metadata": {},
   "outputs": [],
   "source": [
    "pd.DataFrame.from_dict(genomes2prot_db).to_pickle(snakemake.output[0])\n",
    "#pd.DataFrame.from_dict(genomes2prot_db).to_pickle('../outputs/GENOME_PROTEIN_DB_rso_test.pkl')"
   ]
  }
 ],
 "metadata": {
  "kernelspec": {
   "display_name": "Python 3",
   "language": "python",
   "name": "python3"
  },
  "language_info": {
   "codemirror_mode": {
    "name": "ipython",
    "version": 3
   },
   "file_extension": ".py",
   "mimetype": "text/x-python",
   "name": "python",
   "nbconvert_exporter": "python",
   "pygments_lexer": "ipython3",
   "version": "3.8.5"
  }
 },
 "nbformat": 4,
 "nbformat_minor": 4
}
