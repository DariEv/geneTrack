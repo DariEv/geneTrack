{
 "cells": [
  {
   "cell_type": "code",
   "execution_count": 3,
   "id": "ce5011dc",
   "metadata": {},
   "outputs": [
    {
     "name": "stdout",
     "output_type": "stream",
     "text": [
      "raxml-ng --all --msa korea2_concat_no_RR.fasta --model GTR+I+G4 --tree pars{5} --bs-trees 50\n"
     ]
    }
   ],
   "source": [
    "import os\n",
    "\n",
    "DEBUG = False\n",
    "if DEBUG:\n",
    "    modeltest = '/Users/devseeva/Desktop/work/sm_workflow/geneTrack/korea2_outputs/korea2_modeltest_2/korea2_concat_no_RR.fasta.out'\n",
    "    algo = 'raxml'\n",
    "else:\n",
    "    modeltest = snakemake.input[\"modeltest\"]\n",
    "    msa = snakemake.input[\"msa\"]\n",
    "    algo = snakemake.params[\"algo\"]\n",
    "    t = snakemake.threads\n",
    "    output = snakemake.output[0]\n",
    "\n",
    "cmd = []\n",
    "for l in open(modeltest, 'r'):\n",
    "    \n",
    "    if algo == 'raxml' and '> raxml-ng' in l:\n",
    "        cmd.append(l.replace('>','').strip())\n",
    "    if algo == 'phyml' and '> phyml' in l:\n",
    "        cmd.append(l.replace('>','').strip())\n",
    "\n",
    "if len(set(cmd)) != 1:\n",
    "    print('*** Warning: modeltest predicted different models ***' )\n",
    "\n",
    "cmd = cmd[0].replace('raxml-ng', 'raxml-ng --all') + ' --tree pars{5} --bs-trees 50 --threads {threads}'\n",
    "\n",
    "if DEBUG:\n",
    "    print(cmd)\n",
    "else:\n",
    "    os.system(cmd)\n",
    "    os.system(\"mv \"+msa+\".raxml.bestTree \"+output)"
   ]
  },
  {
   "cell_type": "code",
   "execution_count": null,
   "id": "e9d77198",
   "metadata": {},
   "outputs": [],
   "source": []
  },
  {
   "cell_type": "code",
   "execution_count": null,
   "id": "6d8aab70",
   "metadata": {},
   "outputs": [],
   "source": []
  }
 ],
 "metadata": {
  "kernelspec": {
   "display_name": "Python 3 (ipykernel)",
   "language": "python",
   "name": "python3"
  },
  "language_info": {
   "codemirror_mode": {
    "name": "ipython",
    "version": 3
   },
   "file_extension": ".py",
   "mimetype": "text/x-python",
   "name": "python",
   "nbconvert_exporter": "python",
   "pygments_lexer": "ipython3",
   "version": "3.8.12"
  }
 },
 "nbformat": 4,
 "nbformat_minor": 5
}
