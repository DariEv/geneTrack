{
 "cells": [
  {
   "cell_type": "markdown",
   "id": "2f3fc377",
   "metadata": {},
   "source": [
    "# splits XMFA file for separate input for clonalframe  "
   ]
  },
  {
   "cell_type": "code",
   "execution_count": 21,
   "id": "77142ecd",
   "metadata": {},
   "outputs": [],
   "source": [
    "import os"
   ]
  },
  {
   "cell_type": "code",
   "execution_count": 22,
   "id": "0b295e26",
   "metadata": {},
   "outputs": [],
   "source": [
    "in_xmfa = '/Users/devseeva/Desktop/work/sm_workflow/geneTrack/phy2_test_outputs/phy2_test_concat.xmfa'"
   ]
  },
  {
   "cell_type": "code",
   "execution_count": 26,
   "id": "bb4ab901",
   "metadata": {},
   "outputs": [
    {
     "data": {
      "text/plain": [
       "1550"
      ]
     },
     "execution_count": 26,
     "metadata": {},
     "output_type": "execute_result"
    }
   ],
   "source": [
    "l_num = int(os.popen(\"grep -c = \"+in_xmfa).read())\n",
    "split_num = round(l_num / 2)\n",
    "split_num"
   ]
  },
  {
   "cell_type": "code",
   "execution_count": 35,
   "id": "61422a41",
   "metadata": {},
   "outputs": [
    {
     "name": "stdout",
     "output_type": "stream",
     "text": [
      "3100\n"
     ]
    }
   ],
   "source": [
    "xmfa = open(in_xmfa, 'r')\n",
    "out1 = open(in_xmfa.replace('.xmfa', '_s1.xmfa'), 'w')\n",
    "out2 = open(in_xmfa.replace('.xmfa', '_s2.xmfa'), 'w')\n",
    "\n",
    "counter = 0\n",
    "for l in xmfa:\n",
    "    if counter < split_num:\n",
    "        out1.write(l)\n",
    "    else:\n",
    "        out2.write(l)\n",
    "    if '=' in l:\n",
    "        counter = counter + 1\n",
    "\n",
    "print(counter)    \n",
    "xmfa.close()\n",
    "out1.close()\n",
    "out2.close()"
   ]
  },
  {
   "cell_type": "code",
   "execution_count": null,
   "id": "be8961dd",
   "metadata": {},
   "outputs": [],
   "source": []
  },
  {
   "cell_type": "code",
   "execution_count": null,
   "id": "86bf2f19",
   "metadata": {},
   "outputs": [],
   "source": []
  }
 ],
 "metadata": {
  "kernelspec": {
   "display_name": "Python 3 (ipykernel)",
   "language": "python",
   "name": "python3"
  },
  "language_info": {
   "codemirror_mode": {
    "name": "ipython",
    "version": 3
   },
   "file_extension": ".py",
   "mimetype": "text/x-python",
   "name": "python",
   "nbconvert_exporter": "python",
   "pygments_lexer": "ipython3",
   "version": "3.8.12"
  }
 },
 "nbformat": 4,
 "nbformat_minor": 5
}
