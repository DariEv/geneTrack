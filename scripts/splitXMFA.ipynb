{
 "cells": [
  {
   "cell_type": "markdown",
   "id": "07daece8",
   "metadata": {},
   "source": [
    "# splits XMFA file for separate input for clonalframe  "
   ]
  },
  {
   "cell_type": "code",
   "execution_count": 21,
   "id": "65f151d4",
   "metadata": {},
   "outputs": [],
   "source": [
    "import os"
   ]
  },
  {
   "cell_type": "code",
   "execution_count": 22,
   "id": "0959b530",
   "metadata": {},
   "outputs": [],
   "source": [
    "in_xmfa = '/ebio/ag-mccann/projects/rso-mar/code/geneTrack/mar1_concat.xmfa'\n",
    "#'/Users/devseeva/Desktop/work/sm_workflow/geneTrack/phy2_test_outputs/phy2_test_concat.xmfa'"
   ]
  },
  {
   "cell_type": "code",
   "execution_count": 26,
   "id": "7f31f815",
   "metadata": {},
   "outputs": [
    {
     "data": {
      "text/plain": [
       "1550"
      ]
     },
     "execution_count": 26,
     "metadata": {},
     "output_type": "execute_result"
    }
   ],
   "source": [
    "l_num = int(os.popen(\"grep -c = \"+in_xmfa).read())\n",
    "split_num = round(l_num / 2)\n",
    "split_num"
   ]
  },
  {
   "cell_type": "code",
   "execution_count": 35,
   "id": "8789cef4",
   "metadata": {},
   "outputs": [
    {
     "name": "stdout",
     "output_type": "stream",
     "text": [
      "3100\n"
     ]
    }
   ],
   "source": [
    "xmfa = open(in_xmfa, 'r')\n",
    "out1 = open(in_xmfa.replace('.xmfa', '_s1.xmfa'), 'w')\n",
    "out2 = open(in_xmfa.replace('.xmfa', '_s2.xmfa'), 'w')\n",
    "\n",
    "counter = 0\n",
    "for l in xmfa:\n",
    "    if counter < split_num:\n",
    "        out1.write(l)\n",
    "    else:\n",
    "        out2.write(l)\n",
    "    if '=' in l:\n",
    "        counter = counter + 1\n",
    "\n",
    "print(counter)    \n",
    "xmfa.close()\n",
    "out1.close()\n",
    "out2.close()"
   ]
  },
  {
   "cell_type": "code",
   "execution_count": null,
   "id": "13af1d5c",
   "metadata": {},
   "outputs": [],
   "source": []
  },
  {
   "cell_type": "code",
   "execution_count": null,
   "id": "da2f7c30",
   "metadata": {},
   "outputs": [],
   "source": []
  }
 ],
 "metadata": {
  "kernelspec": {
   "display_name": "Python 3 (ipykernel)",
   "language": "python",
   "name": "python3"
  },
  "language_info": {
   "codemirror_mode": {
    "name": "ipython",
    "version": 3
   },
   "file_extension": ".py",
   "mimetype": "text/x-python",
   "name": "python",
   "nbconvert_exporter": "python",
   "pygments_lexer": "ipython3",
   "version": "3.8.12"
  }
 },
 "nbformat": 4,
 "nbformat_minor": 5
}
